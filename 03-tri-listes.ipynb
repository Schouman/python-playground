{
 "cells": [
  {
   "cell_type": "markdown",
   "metadata": {},
   "source": [
    "# 3. Tri des listes\n"
   ]
  },
  {
   "cell_type": "code",
   "execution_count": 1,
   "metadata": {},
   "outputs": [],
   "source": [
    "ma_liste = [5, 4, 8, 5, 8, 10, 1, 3, 6, 6, 2, 3, 9]\n",
    "print(len(ma_liste), ma_liste)"
   ]
  },
  {
   "cell_type": "code",
   "execution_count": null,
   "metadata": {},
   "outputs": [],
   "source": []
  },
  {
   "cell_type": "markdown",
   "metadata": {},
   "source": [
    "### Méthode de classe / native ```list.sort```"
   ]
  },
  {
   "cell_type": "code",
   "execution_count": 2,
   "metadata": {},
   "outputs": [
    {
     "name": "stdout",
     "output_type": "stream",
     "text": [
      "Help on method_descriptor:\n",
      "\n",
      "sort(self, /, *, key=None, reverse=False)\n",
      "    Sort the list in ascending order and return None.\n",
      "    \n",
      "    The sort is in-place (i.e. the list itself is modified) and stable (i.e. the\n",
      "    order of two equal elements is maintained).\n",
      "    \n",
      "    If a key function is given, apply it once to each list item and sort them,\n",
      "    ascending or descending, according to their function values.\n",
      "    \n",
      "    The reverse flag can be set to sort in descending order.\n",
      "\n"
     ]
    }
   ],
   "source": [
    "help(list.sort)"
   ]
  },
  {
   "cell_type": "code",
   "execution_count": 3,
   "metadata": {},
   "outputs": [
    {
     "name": "stdout",
     "output_type": "stream",
     "text": [
      "[1, 2, 3, 3, 4, 5, 5, 6, 6, 8, 8, 9, 10]\n"
     ]
    }
   ],
   "source": [
    "ma_liste.sort()\n",
    "print(ma_liste)"
   ]
  },
  {
   "cell_type": "code",
   "execution_count": 4,
   "metadata": {},
   "outputs": [
    {
     "name": "stdout",
     "output_type": "stream",
     "text": [
      "[10, 9, 8, 8, 6, 6, 5, 5, 4, 3, 3, 2, 1]\n"
     ]
    }
   ],
   "source": [
    "ma_liste.sort(reverse=True)\n",
    "print(ma_liste)"
   ]
  },
  {
   "cell_type": "code",
   "execution_count": null,
   "metadata": {},
   "outputs": [],
   "source": []
  },
  {
   "cell_type": "markdown",
   "metadata": {},
   "source": [
    "### Méthode ```sorted```"
   ]
  },
  {
   "cell_type": "code",
   "execution_count": 5,
   "metadata": {},
   "outputs": [
    {
     "name": "stdout",
     "output_type": "stream",
     "text": [
      "Help on built-in function sorted in module builtins:\n",
      "\n",
      "sorted(iterable, /, *, key=None, reverse=False)\n",
      "    Return a new list containing all items from the iterable in ascending order.\n",
      "    \n",
      "    A custom key function can be supplied to customize the sort order, and the\n",
      "    reverse flag can be set to request the result in descending order.\n",
      "\n"
     ]
    }
   ],
   "source": [
    "help(sorted)"
   ]
  },
  {
   "cell_type": "code",
   "execution_count": 6,
   "metadata": {},
   "outputs": [
    {
     "data": {
      "text/plain": [
       "[1, 2, 3, 3, 4, 5, 5, 6, 6, 8, 8, 9, 10]"
      ]
     },
     "execution_count": 6,
     "metadata": {},
     "output_type": "execute_result"
    }
   ],
   "source": [
    "ma_liste = [5, 4, 8, 5, 8, 10, 1, 3, 6, 6, 2, 3, 9]\n",
    "sorted(ma_liste)"
   ]
  },
  {
   "cell_type": "code",
   "execution_count": 7,
   "metadata": {},
   "outputs": [
    {
     "data": {
      "text/plain": [
       "[10, 9, 8, 8, 6, 6, 5, 5, 4, 3, 3, 2, 1]"
      ]
     },
     "execution_count": 7,
     "metadata": {},
     "output_type": "execute_result"
    }
   ],
   "source": [
    "sorted(ma_liste, reverse=True)"
   ]
  },
  {
   "cell_type": "code",
   "execution_count": null,
   "metadata": {},
   "outputs": [],
   "source": []
  },
  {
   "cell_type": "markdown",
   "metadata": {},
   "source": [
    "## Exercices"
   ]
  },
  {
   "cell_type": "code",
   "execution_count": 8,
   "metadata": {},
   "outputs": [],
   "source": [
    "ma_liste = [5, 4, 8, 5, 8, 10, 1, 3, 6, 6, 2, 3, 9]"
   ]
  },
  {
   "cell_type": "code",
   "execution_count": null,
   "metadata": {},
   "outputs": [],
   "source": []
  },
  {
   "cell_type": "code",
   "execution_count": 9,
   "metadata": {},
   "outputs": [],
   "source": [
    "# FYI: Implementation demo flag\n",
    "def calculer_somme(L, demo = False):\n",
    "    somme = 0\n",
    "    for i in range(len(L)):\n",
    "        somme += L[i]\n",
    "        if demo:\n",
    "            print(L[i], somme)\n",
    "    return somme"
   ]
  },
  {
   "cell_type": "code",
   "execution_count": 10,
   "metadata": {},
   "outputs": [
    {
     "data": {
      "text/plain": [
       "70"
      ]
     },
     "execution_count": 10,
     "metadata": {},
     "output_type": "execute_result"
    }
   ],
   "source": [
    "ma_liste = [5, 4, 8, 5, 8, 10, 1, 3, 6, 6, 2, 3, 9]\n",
    "calculer_somme(ma_liste)"
   ]
  },
  {
   "cell_type": "code",
   "execution_count": 11,
   "metadata": {},
   "outputs": [
    {
     "name": "stdout",
     "output_type": "stream",
     "text": [
      "5 5\n",
      "4 9\n",
      "8 17\n",
      "5 22\n",
      "8 30\n",
      "10 40\n",
      "1 41\n",
      "3 44\n",
      "6 50\n",
      "6 56\n",
      "2 58\n",
      "3 61\n",
      "9 70\n"
     ]
    },
    {
     "data": {
      "text/plain": [
       "70"
      ]
     },
     "execution_count": 11,
     "metadata": {},
     "output_type": "execute_result"
    }
   ],
   "source": [
    "ma_liste = [5, 4, 8, 5, 8, 10, 1, 3, 6, 6, 2, 3, 9]\n",
    "calculer_somme(ma_liste, demo = True)"
   ]
  },
  {
   "cell_type": "markdown",
   "metadata": {},
   "source": [
    "### Tri par sélection (min)"
   ]
  },
  {
   "cell_type": "markdown",
   "metadata": {},
   "source": [
    "> **Démo avec jeux de cartes**"
   ]
  },
  {
   "cell_type": "markdown",
   "metadata": {},
   "source": [
    "TO DO: Décrivez l'algorithme de tri par sélection en pseudo-code:  \n",
    "\n",
    "  on créer une liste vide\n",
    "  on met la carte la plus faible à part, \n",
    "  puis on recherche la plus faible d'après,\n",
    "  jusqu'a ce qu'il n'y est plus de carte \n",
    "  puis un tri des cartes\n",
    "  \n",
    "Jordan:  \n",
    "  Tant qu'il y a des cartes:\n",
    "    - je prend la plus faible\n",
    "    - je l'ajoute à une nouvelle liste\n",
    "    - je la supprime de L\n",
    "  je retourne la nouvelle liste"
   ]
  },
  {
   "cell_type": "code",
   "execution_count": 12,
   "metadata": {},
   "outputs": [
    {
     "name": "stdout",
     "output_type": "stream",
     "text": [
      "13\n",
      "12\n",
      "11\n",
      "10\n",
      "9\n",
      "8\n",
      "7\n",
      "6\n",
      "5\n",
      "4\n",
      "3\n",
      "2\n",
      "1\n"
     ]
    }
   ],
   "source": [
    "compteur = len(ma_liste)\n",
    "while compteur>0:\n",
    "    print(compteur)\n",
    "    compteur-=1"
   ]
  },
  {
   "cell_type": "code",
   "execution_count": 13,
   "metadata": {},
   "outputs": [],
   "source": [
    "# Implémentation du tri par sélection (utilisant fonction min())\n",
    "def tri_selection(L, demo = False):\n",
    "    liste_triee=[]\n",
    "    while len(L)>0:\n",
    "        carte_min=min(L)\n",
    "        liste_triee.append(carte_min)\n",
    "        L.remove(carte_min)\n",
    "    return liste_triee"
   ]
  },
  {
   "cell_type": "code",
   "execution_count": 14,
   "metadata": {},
   "outputs": [
    {
     "data": {
      "text/plain": [
       "[1, 2, 3, 3, 4, 5, 5, 6, 6, 8, 8, 9, 10]"
      ]
     },
     "execution_count": 14,
     "metadata": {},
     "output_type": "execute_result"
    }
   ],
   "source": [
    "ma_liste = [5, 4, 8, 5, 8, 10, 1, 3, 6, 6, 2, 3, 9]\n",
    "tri_selection(ma_liste, True)"
   ]
  },
  {
   "cell_type": "code",
   "execution_count": 15,
   "metadata": {},
   "outputs": [
    {
     "data": {
      "text/plain": [
       "[]"
      ]
     },
     "execution_count": 15,
     "metadata": {},
     "output_type": "execute_result"
    }
   ],
   "source": [
    "ma_liste #Note: ma_liste est vide à la fin"
   ]
  },
  {
   "cell_type": "code",
   "execution_count": 16,
   "metadata": {},
   "outputs": [],
   "source": [
    "ma_liste=[5, 4, 8, 5, 8, 10, 1, 3, 6, 6, 2, 3, 9]"
   ]
  },
  {
   "cell_type": "code",
   "execution_count": 17,
   "metadata": {},
   "outputs": [],
   "source": [
    "# Implémentation du tri par sélection (utilisant fonction min())\n",
    "def tri_selection(L, demo = False):\n",
    "    vtri =[]                         #on créé une nouvelle liste \"vtri\" dans laquelle les nb seront ordonnés\n",
    "    for i in range(len(L)):          #pour tous les élements i de la liste\n",
    "        vmin = min(L)                #on cherche la plus petite valeur de la liste \n",
    "        vtri.append(vmin)            #on ajoute cette valeur à la liste \"vmin\"\n",
    "        L.remove(vmin)               #on supprime le vmin précédent pr ne plus le retrouver dans L puis on cherche la nouvelle plus petite valeur\n",
    "       \n",
    "    print(vtri)\n",
    "    "
   ]
  },
  {
   "cell_type": "code",
   "execution_count": 18,
   "metadata": {},
   "outputs": [
    {
     "name": "stdout",
     "output_type": "stream",
     "text": [
      "[1, 2, 3, 3, 4, 5, 5, 6, 6, 8, 8, 9, 10]\n"
     ]
    }
   ],
   "source": [
    "ma_liste = [5, 4, 8, 5, 8, 10, 1, 3, 6, 6, 2, 3, 9]\n",
    "tri_selection(ma_liste, True)"
   ]
  },
  {
   "cell_type": "code",
   "execution_count": 19,
   "metadata": {},
   "outputs": [
    {
     "data": {
      "text/plain": [
       "[]"
      ]
     },
     "execution_count": 19,
     "metadata": {},
     "output_type": "execute_result"
    }
   ],
   "source": [
    "ma_liste"
   ]
  },
  {
   "cell_type": "code",
   "execution_count": 20,
   "metadata": {},
   "outputs": [],
   "source": [
    "def tri_selection(L):\n",
    "\n",
    "#cf Lamia trie en place, nécessite de bien gérer les indices\n",
    "    for i in range(len(L)-1):\n",
    "        min_list=min(L[i:len(L)])\n",
    "        index_min=L[i:len(L)].index(min_list)+i\n",
    "        L[i],L[index_min]=L[index_min],L[i]\n",
    "    return L"
   ]
  },
  {
   "cell_type": "code",
   "execution_count": 21,
   "metadata": {},
   "outputs": [
    {
     "data": {
      "text/plain": [
       "[1, 2, 3, 3, 4, 5, 5, 6, 6, 8, 8, 9, 10]"
      ]
     },
     "execution_count": 21,
     "metadata": {},
     "output_type": "execute_result"
    }
   ],
   "source": [
    "ma_liste = [5, 4, 8, 5, 8, 10, 1, 3, 6, 6, 2, 3, 9]\n",
    "tri_selection(ma_liste)"
   ]
  },
  {
   "cell_type": "code",
   "execution_count": null,
   "metadata": {},
   "outputs": [],
   "source": []
  },
  {
   "cell_type": "code",
   "execution_count": 22,
   "metadata": {},
   "outputs": [],
   "source": [
    "# Implémentation du tri par sélection (utilisant fonction min())\n",
    "#cf Christophe\n",
    "def tri_selection(L,demo=False):   \n",
    "    S=[]\n",
    "    \n",
    "    compteur=0\n",
    "    if demo:\n",
    "        print(compteur, S)\n",
    "        \n",
    "    while len(L)>0:\n",
    "        compteur+=1\n",
    "        \n",
    "        emin=min(L)\n",
    "        S.append(emin)\n",
    "        L.remove(emin)\n",
    "        \n",
    "        if demo:\n",
    "            print(compteur, S)\n",
    "            \n",
    "    return S"
   ]
  },
  {
   "cell_type": "code",
   "execution_count": 23,
   "metadata": {},
   "outputs": [
    {
     "data": {
      "text/plain": [
       "[1, 2, 3, 3, 4, 5, 5, 6, 6, 8, 8, 9, 10]"
      ]
     },
     "execution_count": 23,
     "metadata": {},
     "output_type": "execute_result"
    }
   ],
   "source": [
    "ma_liste = [5, 4, 8, 5, 8, 10, 1, 3, 6, 6, 2, 3, 9] #sans demo =flag\n",
    "tri_selection(ma_liste)"
   ]
  },
  {
   "cell_type": "code",
   "execution_count": 24,
   "metadata": {},
   "outputs": [
    {
     "name": "stdout",
     "output_type": "stream",
     "text": [
      "0 []\n",
      "1 [1]\n",
      "2 [1, 2]\n",
      "3 [1, 2, 3]\n",
      "4 [1, 2, 3, 3]\n",
      "5 [1, 2, 3, 3, 4]\n",
      "6 [1, 2, 3, 3, 4, 5]\n",
      "7 [1, 2, 3, 3, 4, 5, 5]\n",
      "8 [1, 2, 3, 3, 4, 5, 5, 6]\n",
      "9 [1, 2, 3, 3, 4, 5, 5, 6, 6]\n",
      "10 [1, 2, 3, 3, 4, 5, 5, 6, 6, 8]\n",
      "11 [1, 2, 3, 3, 4, 5, 5, 6, 6, 8, 8]\n",
      "12 [1, 2, 3, 3, 4, 5, 5, 6, 6, 8, 8, 9]\n",
      "13 [1, 2, 3, 3, 4, 5, 5, 6, 6, 8, 8, 9, 10]\n"
     ]
    },
    {
     "data": {
      "text/plain": [
       "[1, 2, 3, 3, 4, 5, 5, 6, 6, 8, 8, 9, 10]"
      ]
     },
     "execution_count": 24,
     "metadata": {},
     "output_type": "execute_result"
    }
   ],
   "source": [
    "ma_liste=[5, 4, 8, 5, 8, 10, 1, 3, 6, 6, 2, 3, 9]\n",
    "tri_selection(ma_liste, True)"
   ]
  },
  {
   "cell_type": "code",
   "execution_count": null,
   "metadata": {},
   "outputs": [],
   "source": []
  },
  {
   "cell_type": "code",
   "execution_count": 25,
   "metadata": {},
   "outputs": [],
   "source": [
    "ma_liste = [5, 4, 8, 5, 8, 10, 1, 3, 6, 6, 2, 3, 9]"
   ]
  },
  {
   "cell_type": "code",
   "execution_count": 26,
   "metadata": {},
   "outputs": [],
   "source": [
    "# Implémentation du tri par sélection (avec ré-implémentation d'une fonction min personnelle)\n",
    "#Cf Christophe\n",
    "def tri_selection_complet(L, demo = False):\n",
    "    S = []\n",
    "    compteur = 0\n",
    "    if demo:\n",
    "        print(\"{:3d}: {}\".format(compteur, L))\n",
    "    \n",
    "    while len(L) > 0:\n",
    "        \n",
    "        emin = L[0]\n",
    "        for e in L:\n",
    "            compteur += 1\n",
    "            if e < emin:\n",
    "                emin = e\n",
    "        \n",
    "        S.append(emin)\n",
    "        L.remove(emin)\n",
    "        \n",
    "        if demo:\n",
    "            print(f\"{compteur:3d}: {S}\")\n",
    "    return S"
   ]
  },
  {
   "cell_type": "code",
   "execution_count": 27,
   "metadata": {},
   "outputs": [
    {
     "name": "stdout",
     "output_type": "stream",
     "text": [
      "  0: [5, 4, 8, 5, 8, 10, 1, 3, 6, 6, 2, 3, 9]\n",
      " 13: [1]\n",
      " 25: [1, 2]\n",
      " 36: [1, 2, 3]\n",
      " 46: [1, 2, 3, 3]\n",
      " 55: [1, 2, 3, 3, 4]\n",
      " 63: [1, 2, 3, 3, 4, 5]\n",
      " 70: [1, 2, 3, 3, 4, 5, 5]\n",
      " 76: [1, 2, 3, 3, 4, 5, 5, 6]\n",
      " 81: [1, 2, 3, 3, 4, 5, 5, 6, 6]\n",
      " 85: [1, 2, 3, 3, 4, 5, 5, 6, 6, 8]\n",
      " 88: [1, 2, 3, 3, 4, 5, 5, 6, 6, 8, 8]\n",
      " 90: [1, 2, 3, 3, 4, 5, 5, 6, 6, 8, 8, 9]\n",
      " 91: [1, 2, 3, 3, 4, 5, 5, 6, 6, 8, 8, 9, 10]\n"
     ]
    },
    {
     "data": {
      "text/plain": [
       "[1, 2, 3, 3, 4, 5, 5, 6, 6, 8, 8, 9, 10]"
      ]
     },
     "execution_count": 27,
     "metadata": {},
     "output_type": "execute_result"
    }
   ],
   "source": [
    "ma_liste=[5, 4, 8, 5, 8, 10, 1, 3, 6, 6, 2, 3, 9]\n",
    "tri_selection_complet(ma_liste, True)"
   ]
  },
  {
   "cell_type": "code",
   "execution_count": 28,
   "metadata": {},
   "outputs": [],
   "source": [
    "def tri_selection_complet(L, demo=False):\n",
    "    #trouver la valeur min\n",
    "    min=0\n",
    "    \n",
    "    for i in range(len(L)):\n",
    "        min=i\n",
    "        \n",
    "        for j in range(i+1, len(L)):\n",
    "            if L[min]>L[j]:\n",
    "                min=j\n",
    "                \n",
    "        tmp=L[i]\n",
    "        L[i]=L[min]\n",
    "        L[min]=tmp\n",
    "        \n",
    "    return L\n",
    "        "
   ]
  },
  {
   "cell_type": "markdown",
   "metadata": {},
   "source": [
    "---"
   ]
  },
  {
   "cell_type": "code",
   "execution_count": 29,
   "metadata": {},
   "outputs": [
    {
     "data": {
      "text/plain": [
       "[1, 2, 3, 3, 4, 5, 5, 6, 6, 8, 8, 9, 10]"
      ]
     },
     "execution_count": 29,
     "metadata": {},
     "output_type": "execute_result"
    }
   ],
   "source": [
    "ma_liste=[5, 4, 8, 5, 8, 10, 1, 3, 6, 6, 2, 3, 9]\n",
    "tri_selection_complet(ma_liste, True)"
   ]
  },
  {
   "cell_type": "markdown",
   "metadata": {},
   "source": [
    "### Tri à bulles (ou tri par propagation)"
   ]
  },
  {
   "cell_type": "markdown",
   "metadata": {},
   "source": [
    "> **Démo avec jeux de cartes**"
   ]
  },
  {
   "cell_type": "markdown",
   "metadata": {},
   "source": [
    "Autre illustration (Source: [wikipedia](https://en.wikipedia.org/wiki/Bubble_sort))  "
   ]
  },
  {
   "cell_type": "markdown",
   "metadata": {},
   "source": [
    "![Tri à Bulles](./img/bubble-sort.gif)  \n"
   ]
  },
  {
   "cell_type": "code",
   "execution_count": null,
   "metadata": {},
   "outputs": [],
   "source": []
  },
  {
   "cell_type": "code",
   "execution_count": null,
   "metadata": {},
   "outputs": [],
   "source": []
  },
  {
   "cell_type": "markdown",
   "metadata": {},
   "source": [
    "TO DO: Décrivez l'algorithme du tri à bulles en pseudo-code:  \n",
    "\n",
    "  - Chaque élément est comparé au précedent, \n",
    "  - la valeur la plus élevée est retenue et comparée à la suivante.\n",
    "  - A chaque étape la valeur la plus élevée est retenue est placée à la fin du premier tour à sa place définitive. \n",
    "  - Le tour suivant retient l'avant dernier élément et ainsi de suite, jusqu'à ce que tous les éléments soient dans l'ordre."
   ]
  },
  {
   "cell_type": "code",
   "execution_count": 30,
   "metadata": {},
   "outputs": [],
   "source": [
    "ma_liste=[5, 4, 8, 5, 8, 10, 1, 3, 6, 6, 2, 3, 9]"
   ]
  },
  {
   "cell_type": "code",
   "execution_count": 31,
   "metadata": {},
   "outputs": [],
   "source": [
    "# Implémentation littérale de l'algo wiki avec mode demo:\n",
    "# Cf Christophe\n",
    "def tri_bulles(L, demo = False):\n",
    "    n = len(L)\n",
    "    compteur = 0\n",
    "    if demo:\n",
    "        print(\"{:3d}: {}\".format(compteur, L))\n",
    "    \n",
    "    # Traverser tous les éléments du tableau\n",
    "    for i in range(n, 1, -1):\n",
    "        for j in range(0, i-1):\n",
    "            compteur += 1\n",
    "            # échanger si l'élément trouvé est plus grand que le suivant\n",
    "            if L[j] > L[j+1] :\n",
    "                L[j], L[j+1] = L[j+1], L[j]\n",
    "            if demo:\n",
    "                print(f\"{compteur:3d}: {L}\")\n",
    "    return L"
   ]
  },
  {
   "cell_type": "code",
   "execution_count": 32,
   "metadata": {},
   "outputs": [
    {
     "name": "stdout",
     "output_type": "stream",
     "text": [
      "  0: [5, 4, 8, 5, 8, 10, 1, 3, 6, 6, 2, 3, 9]\n",
      "  1: [4, 5, 8, 5, 8, 10, 1, 3, 6, 6, 2, 3, 9]\n",
      "  2: [4, 5, 8, 5, 8, 10, 1, 3, 6, 6, 2, 3, 9]\n",
      "  3: [4, 5, 5, 8, 8, 10, 1, 3, 6, 6, 2, 3, 9]\n",
      "  4: [4, 5, 5, 8, 8, 10, 1, 3, 6, 6, 2, 3, 9]\n",
      "  5: [4, 5, 5, 8, 8, 10, 1, 3, 6, 6, 2, 3, 9]\n",
      "  6: [4, 5, 5, 8, 8, 1, 10, 3, 6, 6, 2, 3, 9]\n",
      "  7: [4, 5, 5, 8, 8, 1, 3, 10, 6, 6, 2, 3, 9]\n",
      "  8: [4, 5, 5, 8, 8, 1, 3, 6, 10, 6, 2, 3, 9]\n",
      "  9: [4, 5, 5, 8, 8, 1, 3, 6, 6, 10, 2, 3, 9]\n",
      " 10: [4, 5, 5, 8, 8, 1, 3, 6, 6, 2, 10, 3, 9]\n",
      " 11: [4, 5, 5, 8, 8, 1, 3, 6, 6, 2, 3, 10, 9]\n",
      " 12: [4, 5, 5, 8, 8, 1, 3, 6, 6, 2, 3, 9, 10]\n",
      " 13: [4, 5, 5, 8, 8, 1, 3, 6, 6, 2, 3, 9, 10]\n",
      " 14: [4, 5, 5, 8, 8, 1, 3, 6, 6, 2, 3, 9, 10]\n",
      " 15: [4, 5, 5, 8, 8, 1, 3, 6, 6, 2, 3, 9, 10]\n",
      " 16: [4, 5, 5, 8, 8, 1, 3, 6, 6, 2, 3, 9, 10]\n",
      " 17: [4, 5, 5, 8, 1, 8, 3, 6, 6, 2, 3, 9, 10]\n",
      " 18: [4, 5, 5, 8, 1, 3, 8, 6, 6, 2, 3, 9, 10]\n",
      " 19: [4, 5, 5, 8, 1, 3, 6, 8, 6, 2, 3, 9, 10]\n",
      " 20: [4, 5, 5, 8, 1, 3, 6, 6, 8, 2, 3, 9, 10]\n",
      " 21: [4, 5, 5, 8, 1, 3, 6, 6, 2, 8, 3, 9, 10]\n",
      " 22: [4, 5, 5, 8, 1, 3, 6, 6, 2, 3, 8, 9, 10]\n",
      " 23: [4, 5, 5, 8, 1, 3, 6, 6, 2, 3, 8, 9, 10]\n",
      " 24: [4, 5, 5, 8, 1, 3, 6, 6, 2, 3, 8, 9, 10]\n",
      " 25: [4, 5, 5, 8, 1, 3, 6, 6, 2, 3, 8, 9, 10]\n",
      " 26: [4, 5, 5, 8, 1, 3, 6, 6, 2, 3, 8, 9, 10]\n",
      " 27: [4, 5, 5, 1, 8, 3, 6, 6, 2, 3, 8, 9, 10]\n",
      " 28: [4, 5, 5, 1, 3, 8, 6, 6, 2, 3, 8, 9, 10]\n",
      " 29: [4, 5, 5, 1, 3, 6, 8, 6, 2, 3, 8, 9, 10]\n",
      " 30: [4, 5, 5, 1, 3, 6, 6, 8, 2, 3, 8, 9, 10]\n",
      " 31: [4, 5, 5, 1, 3, 6, 6, 2, 8, 3, 8, 9, 10]\n",
      " 32: [4, 5, 5, 1, 3, 6, 6, 2, 3, 8, 8, 9, 10]\n",
      " 33: [4, 5, 5, 1, 3, 6, 6, 2, 3, 8, 8, 9, 10]\n",
      " 34: [4, 5, 5, 1, 3, 6, 6, 2, 3, 8, 8, 9, 10]\n",
      " 35: [4, 5, 5, 1, 3, 6, 6, 2, 3, 8, 8, 9, 10]\n",
      " 36: [4, 5, 1, 5, 3, 6, 6, 2, 3, 8, 8, 9, 10]\n",
      " 37: [4, 5, 1, 3, 5, 6, 6, 2, 3, 8, 8, 9, 10]\n",
      " 38: [4, 5, 1, 3, 5, 6, 6, 2, 3, 8, 8, 9, 10]\n",
      " 39: [4, 5, 1, 3, 5, 6, 6, 2, 3, 8, 8, 9, 10]\n",
      " 40: [4, 5, 1, 3, 5, 6, 2, 6, 3, 8, 8, 9, 10]\n",
      " 41: [4, 5, 1, 3, 5, 6, 2, 3, 6, 8, 8, 9, 10]\n",
      " 42: [4, 5, 1, 3, 5, 6, 2, 3, 6, 8, 8, 9, 10]\n",
      " 43: [4, 5, 1, 3, 5, 6, 2, 3, 6, 8, 8, 9, 10]\n",
      " 44: [4, 1, 5, 3, 5, 6, 2, 3, 6, 8, 8, 9, 10]\n",
      " 45: [4, 1, 3, 5, 5, 6, 2, 3, 6, 8, 8, 9, 10]\n",
      " 46: [4, 1, 3, 5, 5, 6, 2, 3, 6, 8, 8, 9, 10]\n",
      " 47: [4, 1, 3, 5, 5, 6, 2, 3, 6, 8, 8, 9, 10]\n",
      " 48: [4, 1, 3, 5, 5, 2, 6, 3, 6, 8, 8, 9, 10]\n",
      " 49: [4, 1, 3, 5, 5, 2, 3, 6, 6, 8, 8, 9, 10]\n",
      " 50: [4, 1, 3, 5, 5, 2, 3, 6, 6, 8, 8, 9, 10]\n",
      " 51: [1, 4, 3, 5, 5, 2, 3, 6, 6, 8, 8, 9, 10]\n",
      " 52: [1, 3, 4, 5, 5, 2, 3, 6, 6, 8, 8, 9, 10]\n",
      " 53: [1, 3, 4, 5, 5, 2, 3, 6, 6, 8, 8, 9, 10]\n",
      " 54: [1, 3, 4, 5, 5, 2, 3, 6, 6, 8, 8, 9, 10]\n",
      " 55: [1, 3, 4, 5, 2, 5, 3, 6, 6, 8, 8, 9, 10]\n",
      " 56: [1, 3, 4, 5, 2, 3, 5, 6, 6, 8, 8, 9, 10]\n",
      " 57: [1, 3, 4, 5, 2, 3, 5, 6, 6, 8, 8, 9, 10]\n",
      " 58: [1, 3, 4, 5, 2, 3, 5, 6, 6, 8, 8, 9, 10]\n",
      " 59: [1, 3, 4, 5, 2, 3, 5, 6, 6, 8, 8, 9, 10]\n",
      " 60: [1, 3, 4, 5, 2, 3, 5, 6, 6, 8, 8, 9, 10]\n",
      " 61: [1, 3, 4, 2, 5, 3, 5, 6, 6, 8, 8, 9, 10]\n",
      " 62: [1, 3, 4, 2, 3, 5, 5, 6, 6, 8, 8, 9, 10]\n",
      " 63: [1, 3, 4, 2, 3, 5, 5, 6, 6, 8, 8, 9, 10]\n",
      " 64: [1, 3, 4, 2, 3, 5, 5, 6, 6, 8, 8, 9, 10]\n",
      " 65: [1, 3, 4, 2, 3, 5, 5, 6, 6, 8, 8, 9, 10]\n",
      " 66: [1, 3, 2, 4, 3, 5, 5, 6, 6, 8, 8, 9, 10]\n",
      " 67: [1, 3, 2, 3, 4, 5, 5, 6, 6, 8, 8, 9, 10]\n",
      " 68: [1, 3, 2, 3, 4, 5, 5, 6, 6, 8, 8, 9, 10]\n",
      " 69: [1, 3, 2, 3, 4, 5, 5, 6, 6, 8, 8, 9, 10]\n",
      " 70: [1, 2, 3, 3, 4, 5, 5, 6, 6, 8, 8, 9, 10]\n",
      " 71: [1, 2, 3, 3, 4, 5, 5, 6, 6, 8, 8, 9, 10]\n",
      " 72: [1, 2, 3, 3, 4, 5, 5, 6, 6, 8, 8, 9, 10]\n",
      " 73: [1, 2, 3, 3, 4, 5, 5, 6, 6, 8, 8, 9, 10]\n",
      " 74: [1, 2, 3, 3, 4, 5, 5, 6, 6, 8, 8, 9, 10]\n",
      " 75: [1, 2, 3, 3, 4, 5, 5, 6, 6, 8, 8, 9, 10]\n",
      " 76: [1, 2, 3, 3, 4, 5, 5, 6, 6, 8, 8, 9, 10]\n",
      " 77: [1, 2, 3, 3, 4, 5, 5, 6, 6, 8, 8, 9, 10]\n",
      " 78: [1, 2, 3, 3, 4, 5, 5, 6, 6, 8, 8, 9, 10]\n"
     ]
    },
    {
     "data": {
      "text/plain": [
       "[1, 2, 3, 3, 4, 5, 5, 6, 6, 8, 8, 9, 10]"
      ]
     },
     "execution_count": 32,
     "metadata": {},
     "output_type": "execute_result"
    }
   ],
   "source": [
    "ma_liste = [5, 4, 8, 5, 8, 10, 1, 3, 6, 6, 2, 3, 9]\n",
    "tri_bulles(ma_liste, demo = True)"
   ]
  },
  {
   "cell_type": "code",
   "execution_count": 33,
   "metadata": {},
   "outputs": [],
   "source": [
    "\n",
    "def tri_bulles(L, demo=False):\n",
    "    for i in range(len(L)):\n",
    "        for j in range (len(L)-1):\n",
    "            if L[j]>L[j+1]:          #comparaison par indice/ position\n",
    "                L[j], L[j+1]=L[j+1],L[j]   #permutation entre les éléments\n",
    "                \n",
    "    return L\n",
    "            "
   ]
  },
  {
   "cell_type": "code",
   "execution_count": 34,
   "metadata": {},
   "outputs": [
    {
     "data": {
      "text/plain": [
       "[1, 2, 3, 3, 4, 5, 5, 6, 6, 8, 8, 9, 10]"
      ]
     },
     "execution_count": 34,
     "metadata": {},
     "output_type": "execute_result"
    }
   ],
   "source": [
    "ma_liste = [5, 4, 8, 5, 8, 10, 1, 3, 6, 6, 2, 3, 9]\n",
    "tri_bulles(ma_liste, demo = True)"
   ]
  },
  {
   "cell_type": "code",
   "execution_count": 35,
   "metadata": {},
   "outputs": [
    {
     "data": {
      "text/plain": [
       "[13, 12, 11, 10, 9, 8, 7, 6, 5, 4, 3, 2, 1]"
      ]
     },
     "execution_count": 35,
     "metadata": {},
     "output_type": "execute_result"
    }
   ],
   "source": [
    "list(range(13,0,-1))"
   ]
  },
  {
   "cell_type": "code",
   "execution_count": 37,
   "metadata": {},
   "outputs": [
    {
     "name": "stdout",
     "output_type": "stream",
     "text": [
      "10 [1, 2, 3, 4, 5, 6, 7, 8, 9, 10]\n"
     ]
    }
   ],
   "source": [
    "meilleur_cas = [i for i in range(1,11)]\n",
    "print(len(meilleur_cas), meilleur_cas)"
   ]
  },
  {
   "cell_type": "code",
   "execution_count": 38,
   "metadata": {},
   "outputs": [
    {
     "name": "stdout",
     "output_type": "stream",
     "text": [
      "10 [10, 9, 8, 7, 6, 5, 4, 3, 2, 1]\n"
     ]
    }
   ],
   "source": [
    "pire_cas = [i for i in range(10, 0, -1)]\n",
    "print(len(pire_cas), pire_cas)"
   ]
  },
  {
   "cell_type": "code",
   "execution_count": 39,
   "metadata": {},
   "outputs": [
    {
     "data": {
      "text/plain": [
       "[1, 2, 3, 4, 5, 6, 7, 8, 9, 10]"
      ]
     },
     "execution_count": 39,
     "metadata": {},
     "output_type": "execute_result"
    }
   ],
   "source": [
    "tri_bulles(pire_cas, True)"
   ]
  },
  {
   "cell_type": "code",
   "execution_count": 40,
   "metadata": {},
   "outputs": [
    {
     "data": {
      "text/plain": [
       "45"
      ]
     },
     "execution_count": 40,
     "metadata": {},
     "output_type": "execute_result"
    }
   ],
   "source": [
    "# Le nb d'itérations dans ce cas est: n * (n + 1) / 2)\n",
    "9 + 8 + 7 + 6 + 5 + 4 + 3 + 2 + 1"
   ]
  },
  {
   "cell_type": "code",
   "execution_count": 41,
   "metadata": {},
   "outputs": [
    {
     "data": {
      "text/plain": [
       "45"
      ]
     },
     "execution_count": 41,
     "metadata": {},
     "output_type": "execute_result"
    }
   ],
   "source": [
    "# Ce qui est égal à n * (n + 1) / 2  avec n = 9\n",
    "9 * 10 // 2"
   ]
  },
  {
   "cell_type": "code",
   "execution_count": 42,
   "metadata": {},
   "outputs": [],
   "source": [
    "#Code tri à bulles / full demo\n",
    "# Implémentation algo tri à bulles wikipedia fr\n",
    "# avec mode demo possible\n",
    "#\n",
    "def tri_bulles(L, demo = False):\n",
    "    n = len(L)\n",
    "    \n",
    "    compteur = 0\n",
    "    if demo:\n",
    "        print(\"{:3d}: {}\".format(compteur, L))\n",
    "    \n",
    "    # Traverser tous les éléments du tableau\n",
    "    nswap = 0\n",
    "    for i in range(n, 1, -1):\n",
    "        if demo:\n",
    "            print(\"Passe sur\", i, \"cartes ( de 0 à\", i - 1, \")\")\n",
    "        for j in range(0, i-1):\n",
    "            compteur += 1\n",
    "            # échanger si l'élément trouvé est plus grand que le suivant\n",
    "            if L[j] > L[j+1] :\n",
    "                nswap += 1\n",
    "                L[j], L[j+1] = L[j+1], L[j]\n",
    "            if demo:\n",
    "                print(f\"{compteur:3d}: {L[:i]} / {L[i:]}\")\n",
    "    if demo:\n",
    "        print(\"nswap =\", nswap)\n",
    "    return L\n",
    "\n"
   ]
  },
  {
   "cell_type": "code",
   "execution_count": 43,
   "metadata": {},
   "outputs": [
    {
     "name": "stdout",
     "output_type": "stream",
     "text": [
      "  0: [5, 4, 8, 5, 8, 10, 1, 3, 6, 6, 2, 3, 9]\n",
      "Passe sur 13 cartes ( de 0 à 12 )\n",
      "  1: [4, 5, 8, 5, 8, 10, 1, 3, 6, 6, 2, 3, 9] / []\n",
      "  2: [4, 5, 8, 5, 8, 10, 1, 3, 6, 6, 2, 3, 9] / []\n",
      "  3: [4, 5, 5, 8, 8, 10, 1, 3, 6, 6, 2, 3, 9] / []\n",
      "  4: [4, 5, 5, 8, 8, 10, 1, 3, 6, 6, 2, 3, 9] / []\n",
      "  5: [4, 5, 5, 8, 8, 10, 1, 3, 6, 6, 2, 3, 9] / []\n",
      "  6: [4, 5, 5, 8, 8, 1, 10, 3, 6, 6, 2, 3, 9] / []\n",
      "  7: [4, 5, 5, 8, 8, 1, 3, 10, 6, 6, 2, 3, 9] / []\n",
      "  8: [4, 5, 5, 8, 8, 1, 3, 6, 10, 6, 2, 3, 9] / []\n",
      "  9: [4, 5, 5, 8, 8, 1, 3, 6, 6, 10, 2, 3, 9] / []\n",
      " 10: [4, 5, 5, 8, 8, 1, 3, 6, 6, 2, 10, 3, 9] / []\n",
      " 11: [4, 5, 5, 8, 8, 1, 3, 6, 6, 2, 3, 10, 9] / []\n",
      " 12: [4, 5, 5, 8, 8, 1, 3, 6, 6, 2, 3, 9, 10] / []\n",
      "Passe sur 12 cartes ( de 0 à 11 )\n",
      " 13: [4, 5, 5, 8, 8, 1, 3, 6, 6, 2, 3, 9] / [10]\n",
      " 14: [4, 5, 5, 8, 8, 1, 3, 6, 6, 2, 3, 9] / [10]\n",
      " 15: [4, 5, 5, 8, 8, 1, 3, 6, 6, 2, 3, 9] / [10]\n",
      " 16: [4, 5, 5, 8, 8, 1, 3, 6, 6, 2, 3, 9] / [10]\n",
      " 17: [4, 5, 5, 8, 1, 8, 3, 6, 6, 2, 3, 9] / [10]\n",
      " 18: [4, 5, 5, 8, 1, 3, 8, 6, 6, 2, 3, 9] / [10]\n",
      " 19: [4, 5, 5, 8, 1, 3, 6, 8, 6, 2, 3, 9] / [10]\n",
      " 20: [4, 5, 5, 8, 1, 3, 6, 6, 8, 2, 3, 9] / [10]\n",
      " 21: [4, 5, 5, 8, 1, 3, 6, 6, 2, 8, 3, 9] / [10]\n",
      " 22: [4, 5, 5, 8, 1, 3, 6, 6, 2, 3, 8, 9] / [10]\n",
      " 23: [4, 5, 5, 8, 1, 3, 6, 6, 2, 3, 8, 9] / [10]\n",
      "Passe sur 11 cartes ( de 0 à 10 )\n",
      " 24: [4, 5, 5, 8, 1, 3, 6, 6, 2, 3, 8] / [9, 10]\n",
      " 25: [4, 5, 5, 8, 1, 3, 6, 6, 2, 3, 8] / [9, 10]\n",
      " 26: [4, 5, 5, 8, 1, 3, 6, 6, 2, 3, 8] / [9, 10]\n",
      " 27: [4, 5, 5, 1, 8, 3, 6, 6, 2, 3, 8] / [9, 10]\n",
      " 28: [4, 5, 5, 1, 3, 8, 6, 6, 2, 3, 8] / [9, 10]\n",
      " 29: [4, 5, 5, 1, 3, 6, 8, 6, 2, 3, 8] / [9, 10]\n",
      " 30: [4, 5, 5, 1, 3, 6, 6, 8, 2, 3, 8] / [9, 10]\n",
      " 31: [4, 5, 5, 1, 3, 6, 6, 2, 8, 3, 8] / [9, 10]\n",
      " 32: [4, 5, 5, 1, 3, 6, 6, 2, 3, 8, 8] / [9, 10]\n",
      " 33: [4, 5, 5, 1, 3, 6, 6, 2, 3, 8, 8] / [9, 10]\n",
      "Passe sur 10 cartes ( de 0 à 9 )\n",
      " 34: [4, 5, 5, 1, 3, 6, 6, 2, 3, 8] / [8, 9, 10]\n",
      " 35: [4, 5, 5, 1, 3, 6, 6, 2, 3, 8] / [8, 9, 10]\n",
      " 36: [4, 5, 1, 5, 3, 6, 6, 2, 3, 8] / [8, 9, 10]\n",
      " 37: [4, 5, 1, 3, 5, 6, 6, 2, 3, 8] / [8, 9, 10]\n",
      " 38: [4, 5, 1, 3, 5, 6, 6, 2, 3, 8] / [8, 9, 10]\n",
      " 39: [4, 5, 1, 3, 5, 6, 6, 2, 3, 8] / [8, 9, 10]\n",
      " 40: [4, 5, 1, 3, 5, 6, 2, 6, 3, 8] / [8, 9, 10]\n",
      " 41: [4, 5, 1, 3, 5, 6, 2, 3, 6, 8] / [8, 9, 10]\n",
      " 42: [4, 5, 1, 3, 5, 6, 2, 3, 6, 8] / [8, 9, 10]\n",
      "Passe sur 9 cartes ( de 0 à 8 )\n",
      " 43: [4, 5, 1, 3, 5, 6, 2, 3, 6] / [8, 8, 9, 10]\n",
      " 44: [4, 1, 5, 3, 5, 6, 2, 3, 6] / [8, 8, 9, 10]\n",
      " 45: [4, 1, 3, 5, 5, 6, 2, 3, 6] / [8, 8, 9, 10]\n",
      " 46: [4, 1, 3, 5, 5, 6, 2, 3, 6] / [8, 8, 9, 10]\n",
      " 47: [4, 1, 3, 5, 5, 6, 2, 3, 6] / [8, 8, 9, 10]\n",
      " 48: [4, 1, 3, 5, 5, 2, 6, 3, 6] / [8, 8, 9, 10]\n",
      " 49: [4, 1, 3, 5, 5, 2, 3, 6, 6] / [8, 8, 9, 10]\n",
      " 50: [4, 1, 3, 5, 5, 2, 3, 6, 6] / [8, 8, 9, 10]\n",
      "Passe sur 8 cartes ( de 0 à 7 )\n",
      " 51: [1, 4, 3, 5, 5, 2, 3, 6] / [6, 8, 8, 9, 10]\n",
      " 52: [1, 3, 4, 5, 5, 2, 3, 6] / [6, 8, 8, 9, 10]\n",
      " 53: [1, 3, 4, 5, 5, 2, 3, 6] / [6, 8, 8, 9, 10]\n",
      " 54: [1, 3, 4, 5, 5, 2, 3, 6] / [6, 8, 8, 9, 10]\n",
      " 55: [1, 3, 4, 5, 2, 5, 3, 6] / [6, 8, 8, 9, 10]\n",
      " 56: [1, 3, 4, 5, 2, 3, 5, 6] / [6, 8, 8, 9, 10]\n",
      " 57: [1, 3, 4, 5, 2, 3, 5, 6] / [6, 8, 8, 9, 10]\n",
      "Passe sur 7 cartes ( de 0 à 6 )\n",
      " 58: [1, 3, 4, 5, 2, 3, 5] / [6, 6, 8, 8, 9, 10]\n",
      " 59: [1, 3, 4, 5, 2, 3, 5] / [6, 6, 8, 8, 9, 10]\n",
      " 60: [1, 3, 4, 5, 2, 3, 5] / [6, 6, 8, 8, 9, 10]\n",
      " 61: [1, 3, 4, 2, 5, 3, 5] / [6, 6, 8, 8, 9, 10]\n",
      " 62: [1, 3, 4, 2, 3, 5, 5] / [6, 6, 8, 8, 9, 10]\n",
      " 63: [1, 3, 4, 2, 3, 5, 5] / [6, 6, 8, 8, 9, 10]\n",
      "Passe sur 6 cartes ( de 0 à 5 )\n",
      " 64: [1, 3, 4, 2, 3, 5] / [5, 6, 6, 8, 8, 9, 10]\n",
      " 65: [1, 3, 4, 2, 3, 5] / [5, 6, 6, 8, 8, 9, 10]\n",
      " 66: [1, 3, 2, 4, 3, 5] / [5, 6, 6, 8, 8, 9, 10]\n",
      " 67: [1, 3, 2, 3, 4, 5] / [5, 6, 6, 8, 8, 9, 10]\n",
      " 68: [1, 3, 2, 3, 4, 5] / [5, 6, 6, 8, 8, 9, 10]\n",
      "Passe sur 5 cartes ( de 0 à 4 )\n",
      " 69: [1, 3, 2, 3, 4] / [5, 5, 6, 6, 8, 8, 9, 10]\n",
      " 70: [1, 2, 3, 3, 4] / [5, 5, 6, 6, 8, 8, 9, 10]\n",
      " 71: [1, 2, 3, 3, 4] / [5, 5, 6, 6, 8, 8, 9, 10]\n",
      " 72: [1, 2, 3, 3, 4] / [5, 5, 6, 6, 8, 8, 9, 10]\n",
      "Passe sur 4 cartes ( de 0 à 3 )\n",
      " 73: [1, 2, 3, 3] / [4, 5, 5, 6, 6, 8, 8, 9, 10]\n",
      " 74: [1, 2, 3, 3] / [4, 5, 5, 6, 6, 8, 8, 9, 10]\n",
      " 75: [1, 2, 3, 3] / [4, 5, 5, 6, 6, 8, 8, 9, 10]\n",
      "Passe sur 3 cartes ( de 0 à 2 )\n",
      " 76: [1, 2, 3] / [3, 4, 5, 5, 6, 6, 8, 8, 9, 10]\n",
      " 77: [1, 2, 3] / [3, 4, 5, 5, 6, 6, 8, 8, 9, 10]\n",
      "Passe sur 2 cartes ( de 0 à 1 )\n",
      " 78: [1, 2] / [3, 3, 4, 5, 5, 6, 6, 8, 8, 9, 10]\n",
      "nswap = 38\n"
     ]
    },
    {
     "data": {
      "text/plain": [
       "[1, 2, 3, 3, 4, 5, 5, 6, 6, 8, 8, 9, 10]"
      ]
     },
     "execution_count": 43,
     "metadata": {},
     "output_type": "execute_result"
    }
   ],
   "source": [
    "ma_liste = [5, 4, 8, 5, 8, 10, 1, 3, 6, 6, 2, 3, 9]\n",
    "tri_bulles(ma_liste, demo = True)"
   ]
  },
  {
   "cell_type": "code",
   "execution_count": 44,
   "metadata": {},
   "outputs": [
    {
     "name": "stdout",
     "output_type": "stream",
     "text": [
      "10 [10, 9, 8, 7, 6, 5, 4, 3, 2, 1]\n"
     ]
    }
   ],
   "source": [
    "pire_cas = [i for i in range(10, 0, -1)]\n",
    "print(len(pire_cas), pire_cas)"
   ]
  },
  {
   "cell_type": "markdown",
   "metadata": {},
   "source": [
    "---\n",
    "## Application à une liste de chaînes de caractère"
   ]
  },
  {
   "cell_type": "markdown",
   "metadata": {},
   "source": [
    "**Rappel: Comparaison de chaînes de caractères**"
   ]
  },
  {
   "cell_type": "code",
   "execution_count": 45,
   "metadata": {},
   "outputs": [
    {
     "data": {
      "text/plain": [
       "False"
      ]
     },
     "execution_count": 45,
     "metadata": {},
     "output_type": "execute_result"
    }
   ],
   "source": [
    "\"Abc\" > \"cdf\""
   ]
  },
  {
   "cell_type": "code",
   "execution_count": 46,
   "metadata": {},
   "outputs": [
    {
     "data": {
      "text/plain": [
       "False"
      ]
     },
     "execution_count": 46,
     "metadata": {},
     "output_type": "execute_result"
    }
   ],
   "source": [
    "\"A\" > \"a\""
   ]
  },
  {
   "cell_type": "code",
   "execution_count": 47,
   "metadata": {},
   "outputs": [
    {
     "data": {
      "text/plain": [
       "True"
      ]
     },
     "execution_count": 47,
     "metadata": {},
     "output_type": "execute_result"
    }
   ],
   "source": [
    "\"Vincent\" > \"Christophe\""
   ]
  },
  {
   "cell_type": "code",
   "execution_count": 48,
   "metadata": {},
   "outputs": [
    {
     "data": {
      "text/plain": [
       "False"
      ]
     },
     "execution_count": 48,
     "metadata": {},
     "output_type": "execute_result"
    }
   ],
   "source": [
    "\"Vincent\" > \"christophe\""
   ]
  },
  {
   "cell_type": "code",
   "execution_count": null,
   "metadata": {},
   "outputs": [],
   "source": []
  },
  {
   "cell_type": "code",
   "execution_count": 49,
   "metadata": {},
   "outputs": [],
   "source": [
    "promo = ['Théo', 'Philippe', 'Lamia', 'Marvin', \n",
    "         'Maëlle', 'Yoann', 'Jonathan', 'Corentin', \n",
    "         'Joris', 'Matthias', 'Alicia', 'Izak', \n",
    "         'Mayel', 'Corentin', 'Jordan', 'Abire' \n",
    "]"
   ]
  },
  {
   "cell_type": "code",
   "execution_count": 50,
   "metadata": {},
   "outputs": [
    {
     "data": {
      "text/plain": [
       "['Abire',\n",
       " 'Alicia',\n",
       " 'Corentin',\n",
       " 'Corentin',\n",
       " 'Izak',\n",
       " 'Jonathan',\n",
       " 'Jordan',\n",
       " 'Joris',\n",
       " 'Lamia',\n",
       " 'Marvin',\n",
       " 'Matthias',\n",
       " 'Mayel',\n",
       " 'Maëlle',\n",
       " 'Philippe',\n",
       " 'Théo',\n",
       " 'Yoann']"
      ]
     },
     "execution_count": 50,
     "metadata": {},
     "output_type": "execute_result"
    }
   ],
   "source": [
    "sorted(promo)"
   ]
  },
  {
   "cell_type": "code",
   "execution_count": 51,
   "metadata": {},
   "outputs": [
    {
     "name": "stdout",
     "output_type": "stream",
     "text": [
      "  0: ['Théo', 'Philippe', 'Lamia', 'Marvin', 'Maëlle', 'Yoann', 'Jonathan', 'Corentin', 'Joris', 'Matthias', 'Alicia', 'Izak', 'Mayel', 'Corentin', 'Jordan', 'Abire']\n",
      "Passe sur 16 cartes ( de 0 à 15 )\n",
      "  1: ['Philippe', 'Théo', 'Lamia', 'Marvin', 'Maëlle', 'Yoann', 'Jonathan', 'Corentin', 'Joris', 'Matthias', 'Alicia', 'Izak', 'Mayel', 'Corentin', 'Jordan', 'Abire'] / []\n",
      "  2: ['Philippe', 'Lamia', 'Théo', 'Marvin', 'Maëlle', 'Yoann', 'Jonathan', 'Corentin', 'Joris', 'Matthias', 'Alicia', 'Izak', 'Mayel', 'Corentin', 'Jordan', 'Abire'] / []\n",
      "  3: ['Philippe', 'Lamia', 'Marvin', 'Théo', 'Maëlle', 'Yoann', 'Jonathan', 'Corentin', 'Joris', 'Matthias', 'Alicia', 'Izak', 'Mayel', 'Corentin', 'Jordan', 'Abire'] / []\n",
      "  4: ['Philippe', 'Lamia', 'Marvin', 'Maëlle', 'Théo', 'Yoann', 'Jonathan', 'Corentin', 'Joris', 'Matthias', 'Alicia', 'Izak', 'Mayel', 'Corentin', 'Jordan', 'Abire'] / []\n",
      "  5: ['Philippe', 'Lamia', 'Marvin', 'Maëlle', 'Théo', 'Yoann', 'Jonathan', 'Corentin', 'Joris', 'Matthias', 'Alicia', 'Izak', 'Mayel', 'Corentin', 'Jordan', 'Abire'] / []\n",
      "  6: ['Philippe', 'Lamia', 'Marvin', 'Maëlle', 'Théo', 'Jonathan', 'Yoann', 'Corentin', 'Joris', 'Matthias', 'Alicia', 'Izak', 'Mayel', 'Corentin', 'Jordan', 'Abire'] / []\n",
      "  7: ['Philippe', 'Lamia', 'Marvin', 'Maëlle', 'Théo', 'Jonathan', 'Corentin', 'Yoann', 'Joris', 'Matthias', 'Alicia', 'Izak', 'Mayel', 'Corentin', 'Jordan', 'Abire'] / []\n",
      "  8: ['Philippe', 'Lamia', 'Marvin', 'Maëlle', 'Théo', 'Jonathan', 'Corentin', 'Joris', 'Yoann', 'Matthias', 'Alicia', 'Izak', 'Mayel', 'Corentin', 'Jordan', 'Abire'] / []\n",
      "  9: ['Philippe', 'Lamia', 'Marvin', 'Maëlle', 'Théo', 'Jonathan', 'Corentin', 'Joris', 'Matthias', 'Yoann', 'Alicia', 'Izak', 'Mayel', 'Corentin', 'Jordan', 'Abire'] / []\n",
      " 10: ['Philippe', 'Lamia', 'Marvin', 'Maëlle', 'Théo', 'Jonathan', 'Corentin', 'Joris', 'Matthias', 'Alicia', 'Yoann', 'Izak', 'Mayel', 'Corentin', 'Jordan', 'Abire'] / []\n",
      " 11: ['Philippe', 'Lamia', 'Marvin', 'Maëlle', 'Théo', 'Jonathan', 'Corentin', 'Joris', 'Matthias', 'Alicia', 'Izak', 'Yoann', 'Mayel', 'Corentin', 'Jordan', 'Abire'] / []\n",
      " 12: ['Philippe', 'Lamia', 'Marvin', 'Maëlle', 'Théo', 'Jonathan', 'Corentin', 'Joris', 'Matthias', 'Alicia', 'Izak', 'Mayel', 'Yoann', 'Corentin', 'Jordan', 'Abire'] / []\n",
      " 13: ['Philippe', 'Lamia', 'Marvin', 'Maëlle', 'Théo', 'Jonathan', 'Corentin', 'Joris', 'Matthias', 'Alicia', 'Izak', 'Mayel', 'Corentin', 'Yoann', 'Jordan', 'Abire'] / []\n",
      " 14: ['Philippe', 'Lamia', 'Marvin', 'Maëlle', 'Théo', 'Jonathan', 'Corentin', 'Joris', 'Matthias', 'Alicia', 'Izak', 'Mayel', 'Corentin', 'Jordan', 'Yoann', 'Abire'] / []\n",
      " 15: ['Philippe', 'Lamia', 'Marvin', 'Maëlle', 'Théo', 'Jonathan', 'Corentin', 'Joris', 'Matthias', 'Alicia', 'Izak', 'Mayel', 'Corentin', 'Jordan', 'Abire', 'Yoann'] / []\n",
      "Passe sur 15 cartes ( de 0 à 14 )\n",
      " 16: ['Lamia', 'Philippe', 'Marvin', 'Maëlle', 'Théo', 'Jonathan', 'Corentin', 'Joris', 'Matthias', 'Alicia', 'Izak', 'Mayel', 'Corentin', 'Jordan', 'Abire'] / ['Yoann']\n",
      " 17: ['Lamia', 'Marvin', 'Philippe', 'Maëlle', 'Théo', 'Jonathan', 'Corentin', 'Joris', 'Matthias', 'Alicia', 'Izak', 'Mayel', 'Corentin', 'Jordan', 'Abire'] / ['Yoann']\n",
      " 18: ['Lamia', 'Marvin', 'Maëlle', 'Philippe', 'Théo', 'Jonathan', 'Corentin', 'Joris', 'Matthias', 'Alicia', 'Izak', 'Mayel', 'Corentin', 'Jordan', 'Abire'] / ['Yoann']\n",
      " 19: ['Lamia', 'Marvin', 'Maëlle', 'Philippe', 'Théo', 'Jonathan', 'Corentin', 'Joris', 'Matthias', 'Alicia', 'Izak', 'Mayel', 'Corentin', 'Jordan', 'Abire'] / ['Yoann']\n",
      " 20: ['Lamia', 'Marvin', 'Maëlle', 'Philippe', 'Jonathan', 'Théo', 'Corentin', 'Joris', 'Matthias', 'Alicia', 'Izak', 'Mayel', 'Corentin', 'Jordan', 'Abire'] / ['Yoann']\n",
      " 21: ['Lamia', 'Marvin', 'Maëlle', 'Philippe', 'Jonathan', 'Corentin', 'Théo', 'Joris', 'Matthias', 'Alicia', 'Izak', 'Mayel', 'Corentin', 'Jordan', 'Abire'] / ['Yoann']\n",
      " 22: ['Lamia', 'Marvin', 'Maëlle', 'Philippe', 'Jonathan', 'Corentin', 'Joris', 'Théo', 'Matthias', 'Alicia', 'Izak', 'Mayel', 'Corentin', 'Jordan', 'Abire'] / ['Yoann']\n",
      " 23: ['Lamia', 'Marvin', 'Maëlle', 'Philippe', 'Jonathan', 'Corentin', 'Joris', 'Matthias', 'Théo', 'Alicia', 'Izak', 'Mayel', 'Corentin', 'Jordan', 'Abire'] / ['Yoann']\n",
      " 24: ['Lamia', 'Marvin', 'Maëlle', 'Philippe', 'Jonathan', 'Corentin', 'Joris', 'Matthias', 'Alicia', 'Théo', 'Izak', 'Mayel', 'Corentin', 'Jordan', 'Abire'] / ['Yoann']\n",
      " 25: ['Lamia', 'Marvin', 'Maëlle', 'Philippe', 'Jonathan', 'Corentin', 'Joris', 'Matthias', 'Alicia', 'Izak', 'Théo', 'Mayel', 'Corentin', 'Jordan', 'Abire'] / ['Yoann']\n",
      " 26: ['Lamia', 'Marvin', 'Maëlle', 'Philippe', 'Jonathan', 'Corentin', 'Joris', 'Matthias', 'Alicia', 'Izak', 'Mayel', 'Théo', 'Corentin', 'Jordan', 'Abire'] / ['Yoann']\n",
      " 27: ['Lamia', 'Marvin', 'Maëlle', 'Philippe', 'Jonathan', 'Corentin', 'Joris', 'Matthias', 'Alicia', 'Izak', 'Mayel', 'Corentin', 'Théo', 'Jordan', 'Abire'] / ['Yoann']\n",
      " 28: ['Lamia', 'Marvin', 'Maëlle', 'Philippe', 'Jonathan', 'Corentin', 'Joris', 'Matthias', 'Alicia', 'Izak', 'Mayel', 'Corentin', 'Jordan', 'Théo', 'Abire'] / ['Yoann']\n",
      " 29: ['Lamia', 'Marvin', 'Maëlle', 'Philippe', 'Jonathan', 'Corentin', 'Joris', 'Matthias', 'Alicia', 'Izak', 'Mayel', 'Corentin', 'Jordan', 'Abire', 'Théo'] / ['Yoann']\n",
      "Passe sur 14 cartes ( de 0 à 13 )\n",
      " 30: ['Lamia', 'Marvin', 'Maëlle', 'Philippe', 'Jonathan', 'Corentin', 'Joris', 'Matthias', 'Alicia', 'Izak', 'Mayel', 'Corentin', 'Jordan', 'Abire'] / ['Théo', 'Yoann']\n",
      " 31: ['Lamia', 'Marvin', 'Maëlle', 'Philippe', 'Jonathan', 'Corentin', 'Joris', 'Matthias', 'Alicia', 'Izak', 'Mayel', 'Corentin', 'Jordan', 'Abire'] / ['Théo', 'Yoann']\n",
      " 32: ['Lamia', 'Marvin', 'Maëlle', 'Philippe', 'Jonathan', 'Corentin', 'Joris', 'Matthias', 'Alicia', 'Izak', 'Mayel', 'Corentin', 'Jordan', 'Abire'] / ['Théo', 'Yoann']\n",
      " 33: ['Lamia', 'Marvin', 'Maëlle', 'Jonathan', 'Philippe', 'Corentin', 'Joris', 'Matthias', 'Alicia', 'Izak', 'Mayel', 'Corentin', 'Jordan', 'Abire'] / ['Théo', 'Yoann']\n",
      " 34: ['Lamia', 'Marvin', 'Maëlle', 'Jonathan', 'Corentin', 'Philippe', 'Joris', 'Matthias', 'Alicia', 'Izak', 'Mayel', 'Corentin', 'Jordan', 'Abire'] / ['Théo', 'Yoann']\n",
      " 35: ['Lamia', 'Marvin', 'Maëlle', 'Jonathan', 'Corentin', 'Joris', 'Philippe', 'Matthias', 'Alicia', 'Izak', 'Mayel', 'Corentin', 'Jordan', 'Abire'] / ['Théo', 'Yoann']\n",
      " 36: ['Lamia', 'Marvin', 'Maëlle', 'Jonathan', 'Corentin', 'Joris', 'Matthias', 'Philippe', 'Alicia', 'Izak', 'Mayel', 'Corentin', 'Jordan', 'Abire'] / ['Théo', 'Yoann']\n",
      " 37: ['Lamia', 'Marvin', 'Maëlle', 'Jonathan', 'Corentin', 'Joris', 'Matthias', 'Alicia', 'Philippe', 'Izak', 'Mayel', 'Corentin', 'Jordan', 'Abire'] / ['Théo', 'Yoann']\n",
      " 38: ['Lamia', 'Marvin', 'Maëlle', 'Jonathan', 'Corentin', 'Joris', 'Matthias', 'Alicia', 'Izak', 'Philippe', 'Mayel', 'Corentin', 'Jordan', 'Abire'] / ['Théo', 'Yoann']\n",
      " 39: ['Lamia', 'Marvin', 'Maëlle', 'Jonathan', 'Corentin', 'Joris', 'Matthias', 'Alicia', 'Izak', 'Mayel', 'Philippe', 'Corentin', 'Jordan', 'Abire'] / ['Théo', 'Yoann']\n",
      " 40: ['Lamia', 'Marvin', 'Maëlle', 'Jonathan', 'Corentin', 'Joris', 'Matthias', 'Alicia', 'Izak', 'Mayel', 'Corentin', 'Philippe', 'Jordan', 'Abire'] / ['Théo', 'Yoann']\n",
      " 41: ['Lamia', 'Marvin', 'Maëlle', 'Jonathan', 'Corentin', 'Joris', 'Matthias', 'Alicia', 'Izak', 'Mayel', 'Corentin', 'Jordan', 'Philippe', 'Abire'] / ['Théo', 'Yoann']\n",
      " 42: ['Lamia', 'Marvin', 'Maëlle', 'Jonathan', 'Corentin', 'Joris', 'Matthias', 'Alicia', 'Izak', 'Mayel', 'Corentin', 'Jordan', 'Abire', 'Philippe'] / ['Théo', 'Yoann']\n",
      "Passe sur 13 cartes ( de 0 à 12 )\n",
      " 43: ['Lamia', 'Marvin', 'Maëlle', 'Jonathan', 'Corentin', 'Joris', 'Matthias', 'Alicia', 'Izak', 'Mayel', 'Corentin', 'Jordan', 'Abire'] / ['Philippe', 'Théo', 'Yoann']\n",
      " 44: ['Lamia', 'Marvin', 'Maëlle', 'Jonathan', 'Corentin', 'Joris', 'Matthias', 'Alicia', 'Izak', 'Mayel', 'Corentin', 'Jordan', 'Abire'] / ['Philippe', 'Théo', 'Yoann']\n",
      " 45: ['Lamia', 'Marvin', 'Jonathan', 'Maëlle', 'Corentin', 'Joris', 'Matthias', 'Alicia', 'Izak', 'Mayel', 'Corentin', 'Jordan', 'Abire'] / ['Philippe', 'Théo', 'Yoann']\n",
      " 46: ['Lamia', 'Marvin', 'Jonathan', 'Corentin', 'Maëlle', 'Joris', 'Matthias', 'Alicia', 'Izak', 'Mayel', 'Corentin', 'Jordan', 'Abire'] / ['Philippe', 'Théo', 'Yoann']\n",
      " 47: ['Lamia', 'Marvin', 'Jonathan', 'Corentin', 'Joris', 'Maëlle', 'Matthias', 'Alicia', 'Izak', 'Mayel', 'Corentin', 'Jordan', 'Abire'] / ['Philippe', 'Théo', 'Yoann']\n",
      " 48: ['Lamia', 'Marvin', 'Jonathan', 'Corentin', 'Joris', 'Matthias', 'Maëlle', 'Alicia', 'Izak', 'Mayel', 'Corentin', 'Jordan', 'Abire'] / ['Philippe', 'Théo', 'Yoann']\n",
      " 49: ['Lamia', 'Marvin', 'Jonathan', 'Corentin', 'Joris', 'Matthias', 'Alicia', 'Maëlle', 'Izak', 'Mayel', 'Corentin', 'Jordan', 'Abire'] / ['Philippe', 'Théo', 'Yoann']\n",
      " 50: ['Lamia', 'Marvin', 'Jonathan', 'Corentin', 'Joris', 'Matthias', 'Alicia', 'Izak', 'Maëlle', 'Mayel', 'Corentin', 'Jordan', 'Abire'] / ['Philippe', 'Théo', 'Yoann']\n",
      " 51: ['Lamia', 'Marvin', 'Jonathan', 'Corentin', 'Joris', 'Matthias', 'Alicia', 'Izak', 'Mayel', 'Maëlle', 'Corentin', 'Jordan', 'Abire'] / ['Philippe', 'Théo', 'Yoann']\n",
      " 52: ['Lamia', 'Marvin', 'Jonathan', 'Corentin', 'Joris', 'Matthias', 'Alicia', 'Izak', 'Mayel', 'Corentin', 'Maëlle', 'Jordan', 'Abire'] / ['Philippe', 'Théo', 'Yoann']\n",
      " 53: ['Lamia', 'Marvin', 'Jonathan', 'Corentin', 'Joris', 'Matthias', 'Alicia', 'Izak', 'Mayel', 'Corentin', 'Jordan', 'Maëlle', 'Abire'] / ['Philippe', 'Théo', 'Yoann']\n",
      " 54: ['Lamia', 'Marvin', 'Jonathan', 'Corentin', 'Joris', 'Matthias', 'Alicia', 'Izak', 'Mayel', 'Corentin', 'Jordan', 'Abire', 'Maëlle'] / ['Philippe', 'Théo', 'Yoann']\n",
      "Passe sur 12 cartes ( de 0 à 11 )\n",
      " 55: ['Lamia', 'Marvin', 'Jonathan', 'Corentin', 'Joris', 'Matthias', 'Alicia', 'Izak', 'Mayel', 'Corentin', 'Jordan', 'Abire'] / ['Maëlle', 'Philippe', 'Théo', 'Yoann']\n",
      " 56: ['Lamia', 'Jonathan', 'Marvin', 'Corentin', 'Joris', 'Matthias', 'Alicia', 'Izak', 'Mayel', 'Corentin', 'Jordan', 'Abire'] / ['Maëlle', 'Philippe', 'Théo', 'Yoann']\n",
      " 57: ['Lamia', 'Jonathan', 'Corentin', 'Marvin', 'Joris', 'Matthias', 'Alicia', 'Izak', 'Mayel', 'Corentin', 'Jordan', 'Abire'] / ['Maëlle', 'Philippe', 'Théo', 'Yoann']\n",
      " 58: ['Lamia', 'Jonathan', 'Corentin', 'Joris', 'Marvin', 'Matthias', 'Alicia', 'Izak', 'Mayel', 'Corentin', 'Jordan', 'Abire'] / ['Maëlle', 'Philippe', 'Théo', 'Yoann']\n",
      " 59: ['Lamia', 'Jonathan', 'Corentin', 'Joris', 'Marvin', 'Matthias', 'Alicia', 'Izak', 'Mayel', 'Corentin', 'Jordan', 'Abire'] / ['Maëlle', 'Philippe', 'Théo', 'Yoann']\n",
      " 60: ['Lamia', 'Jonathan', 'Corentin', 'Joris', 'Marvin', 'Alicia', 'Matthias', 'Izak', 'Mayel', 'Corentin', 'Jordan', 'Abire'] / ['Maëlle', 'Philippe', 'Théo', 'Yoann']\n",
      " 61: ['Lamia', 'Jonathan', 'Corentin', 'Joris', 'Marvin', 'Alicia', 'Izak', 'Matthias', 'Mayel', 'Corentin', 'Jordan', 'Abire'] / ['Maëlle', 'Philippe', 'Théo', 'Yoann']\n",
      " 62: ['Lamia', 'Jonathan', 'Corentin', 'Joris', 'Marvin', 'Alicia', 'Izak', 'Matthias', 'Mayel', 'Corentin', 'Jordan', 'Abire'] / ['Maëlle', 'Philippe', 'Théo', 'Yoann']\n",
      " 63: ['Lamia', 'Jonathan', 'Corentin', 'Joris', 'Marvin', 'Alicia', 'Izak', 'Matthias', 'Corentin', 'Mayel', 'Jordan', 'Abire'] / ['Maëlle', 'Philippe', 'Théo', 'Yoann']\n",
      " 64: ['Lamia', 'Jonathan', 'Corentin', 'Joris', 'Marvin', 'Alicia', 'Izak', 'Matthias', 'Corentin', 'Jordan', 'Mayel', 'Abire'] / ['Maëlle', 'Philippe', 'Théo', 'Yoann']\n",
      " 65: ['Lamia', 'Jonathan', 'Corentin', 'Joris', 'Marvin', 'Alicia', 'Izak', 'Matthias', 'Corentin', 'Jordan', 'Abire', 'Mayel'] / ['Maëlle', 'Philippe', 'Théo', 'Yoann']\n",
      "Passe sur 11 cartes ( de 0 à 10 )\n",
      " 66: ['Jonathan', 'Lamia', 'Corentin', 'Joris', 'Marvin', 'Alicia', 'Izak', 'Matthias', 'Corentin', 'Jordan', 'Abire'] / ['Mayel', 'Maëlle', 'Philippe', 'Théo', 'Yoann']\n",
      " 67: ['Jonathan', 'Corentin', 'Lamia', 'Joris', 'Marvin', 'Alicia', 'Izak', 'Matthias', 'Corentin', 'Jordan', 'Abire'] / ['Mayel', 'Maëlle', 'Philippe', 'Théo', 'Yoann']\n",
      " 68: ['Jonathan', 'Corentin', 'Joris', 'Lamia', 'Marvin', 'Alicia', 'Izak', 'Matthias', 'Corentin', 'Jordan', 'Abire'] / ['Mayel', 'Maëlle', 'Philippe', 'Théo', 'Yoann']\n",
      " 69: ['Jonathan', 'Corentin', 'Joris', 'Lamia', 'Marvin', 'Alicia', 'Izak', 'Matthias', 'Corentin', 'Jordan', 'Abire'] / ['Mayel', 'Maëlle', 'Philippe', 'Théo', 'Yoann']\n",
      " 70: ['Jonathan', 'Corentin', 'Joris', 'Lamia', 'Alicia', 'Marvin', 'Izak', 'Matthias', 'Corentin', 'Jordan', 'Abire'] / ['Mayel', 'Maëlle', 'Philippe', 'Théo', 'Yoann']\n",
      " 71: ['Jonathan', 'Corentin', 'Joris', 'Lamia', 'Alicia', 'Izak', 'Marvin', 'Matthias', 'Corentin', 'Jordan', 'Abire'] / ['Mayel', 'Maëlle', 'Philippe', 'Théo', 'Yoann']\n",
      " 72: ['Jonathan', 'Corentin', 'Joris', 'Lamia', 'Alicia', 'Izak', 'Marvin', 'Matthias', 'Corentin', 'Jordan', 'Abire'] / ['Mayel', 'Maëlle', 'Philippe', 'Théo', 'Yoann']\n",
      " 73: ['Jonathan', 'Corentin', 'Joris', 'Lamia', 'Alicia', 'Izak', 'Marvin', 'Corentin', 'Matthias', 'Jordan', 'Abire'] / ['Mayel', 'Maëlle', 'Philippe', 'Théo', 'Yoann']\n",
      " 74: ['Jonathan', 'Corentin', 'Joris', 'Lamia', 'Alicia', 'Izak', 'Marvin', 'Corentin', 'Jordan', 'Matthias', 'Abire'] / ['Mayel', 'Maëlle', 'Philippe', 'Théo', 'Yoann']\n",
      " 75: ['Jonathan', 'Corentin', 'Joris', 'Lamia', 'Alicia', 'Izak', 'Marvin', 'Corentin', 'Jordan', 'Abire', 'Matthias'] / ['Mayel', 'Maëlle', 'Philippe', 'Théo', 'Yoann']\n",
      "Passe sur 10 cartes ( de 0 à 9 )\n",
      " 76: ['Corentin', 'Jonathan', 'Joris', 'Lamia', 'Alicia', 'Izak', 'Marvin', 'Corentin', 'Jordan', 'Abire'] / ['Matthias', 'Mayel', 'Maëlle', 'Philippe', 'Théo', 'Yoann']\n",
      " 77: ['Corentin', 'Jonathan', 'Joris', 'Lamia', 'Alicia', 'Izak', 'Marvin', 'Corentin', 'Jordan', 'Abire'] / ['Matthias', 'Mayel', 'Maëlle', 'Philippe', 'Théo', 'Yoann']\n",
      " 78: ['Corentin', 'Jonathan', 'Joris', 'Lamia', 'Alicia', 'Izak', 'Marvin', 'Corentin', 'Jordan', 'Abire'] / ['Matthias', 'Mayel', 'Maëlle', 'Philippe', 'Théo', 'Yoann']\n",
      " 79: ['Corentin', 'Jonathan', 'Joris', 'Alicia', 'Lamia', 'Izak', 'Marvin', 'Corentin', 'Jordan', 'Abire'] / ['Matthias', 'Mayel', 'Maëlle', 'Philippe', 'Théo', 'Yoann']\n",
      " 80: ['Corentin', 'Jonathan', 'Joris', 'Alicia', 'Izak', 'Lamia', 'Marvin', 'Corentin', 'Jordan', 'Abire'] / ['Matthias', 'Mayel', 'Maëlle', 'Philippe', 'Théo', 'Yoann']\n",
      " 81: ['Corentin', 'Jonathan', 'Joris', 'Alicia', 'Izak', 'Lamia', 'Marvin', 'Corentin', 'Jordan', 'Abire'] / ['Matthias', 'Mayel', 'Maëlle', 'Philippe', 'Théo', 'Yoann']\n",
      " 82: ['Corentin', 'Jonathan', 'Joris', 'Alicia', 'Izak', 'Lamia', 'Corentin', 'Marvin', 'Jordan', 'Abire'] / ['Matthias', 'Mayel', 'Maëlle', 'Philippe', 'Théo', 'Yoann']\n",
      " 83: ['Corentin', 'Jonathan', 'Joris', 'Alicia', 'Izak', 'Lamia', 'Corentin', 'Jordan', 'Marvin', 'Abire'] / ['Matthias', 'Mayel', 'Maëlle', 'Philippe', 'Théo', 'Yoann']\n",
      " 84: ['Corentin', 'Jonathan', 'Joris', 'Alicia', 'Izak', 'Lamia', 'Corentin', 'Jordan', 'Abire', 'Marvin'] / ['Matthias', 'Mayel', 'Maëlle', 'Philippe', 'Théo', 'Yoann']\n",
      "Passe sur 9 cartes ( de 0 à 8 )\n",
      " 85: ['Corentin', 'Jonathan', 'Joris', 'Alicia', 'Izak', 'Lamia', 'Corentin', 'Jordan', 'Abire'] / ['Marvin', 'Matthias', 'Mayel', 'Maëlle', 'Philippe', 'Théo', 'Yoann']\n",
      " 86: ['Corentin', 'Jonathan', 'Joris', 'Alicia', 'Izak', 'Lamia', 'Corentin', 'Jordan', 'Abire'] / ['Marvin', 'Matthias', 'Mayel', 'Maëlle', 'Philippe', 'Théo', 'Yoann']\n",
      " 87: ['Corentin', 'Jonathan', 'Alicia', 'Joris', 'Izak', 'Lamia', 'Corentin', 'Jordan', 'Abire'] / ['Marvin', 'Matthias', 'Mayel', 'Maëlle', 'Philippe', 'Théo', 'Yoann']\n",
      " 88: ['Corentin', 'Jonathan', 'Alicia', 'Izak', 'Joris', 'Lamia', 'Corentin', 'Jordan', 'Abire'] / ['Marvin', 'Matthias', 'Mayel', 'Maëlle', 'Philippe', 'Théo', 'Yoann']\n",
      " 89: ['Corentin', 'Jonathan', 'Alicia', 'Izak', 'Joris', 'Lamia', 'Corentin', 'Jordan', 'Abire'] / ['Marvin', 'Matthias', 'Mayel', 'Maëlle', 'Philippe', 'Théo', 'Yoann']\n",
      " 90: ['Corentin', 'Jonathan', 'Alicia', 'Izak', 'Joris', 'Corentin', 'Lamia', 'Jordan', 'Abire'] / ['Marvin', 'Matthias', 'Mayel', 'Maëlle', 'Philippe', 'Théo', 'Yoann']\n",
      " 91: ['Corentin', 'Jonathan', 'Alicia', 'Izak', 'Joris', 'Corentin', 'Jordan', 'Lamia', 'Abire'] / ['Marvin', 'Matthias', 'Mayel', 'Maëlle', 'Philippe', 'Théo', 'Yoann']\n",
      " 92: ['Corentin', 'Jonathan', 'Alicia', 'Izak', 'Joris', 'Corentin', 'Jordan', 'Abire', 'Lamia'] / ['Marvin', 'Matthias', 'Mayel', 'Maëlle', 'Philippe', 'Théo', 'Yoann']\n",
      "Passe sur 8 cartes ( de 0 à 7 )\n",
      " 93: ['Corentin', 'Jonathan', 'Alicia', 'Izak', 'Joris', 'Corentin', 'Jordan', 'Abire'] / ['Lamia', 'Marvin', 'Matthias', 'Mayel', 'Maëlle', 'Philippe', 'Théo', 'Yoann']\n",
      " 94: ['Corentin', 'Alicia', 'Jonathan', 'Izak', 'Joris', 'Corentin', 'Jordan', 'Abire'] / ['Lamia', 'Marvin', 'Matthias', 'Mayel', 'Maëlle', 'Philippe', 'Théo', 'Yoann']\n",
      " 95: ['Corentin', 'Alicia', 'Izak', 'Jonathan', 'Joris', 'Corentin', 'Jordan', 'Abire'] / ['Lamia', 'Marvin', 'Matthias', 'Mayel', 'Maëlle', 'Philippe', 'Théo', 'Yoann']\n",
      " 96: ['Corentin', 'Alicia', 'Izak', 'Jonathan', 'Joris', 'Corentin', 'Jordan', 'Abire'] / ['Lamia', 'Marvin', 'Matthias', 'Mayel', 'Maëlle', 'Philippe', 'Théo', 'Yoann']\n",
      " 97: ['Corentin', 'Alicia', 'Izak', 'Jonathan', 'Corentin', 'Joris', 'Jordan', 'Abire'] / ['Lamia', 'Marvin', 'Matthias', 'Mayel', 'Maëlle', 'Philippe', 'Théo', 'Yoann']\n",
      " 98: ['Corentin', 'Alicia', 'Izak', 'Jonathan', 'Corentin', 'Jordan', 'Joris', 'Abire'] / ['Lamia', 'Marvin', 'Matthias', 'Mayel', 'Maëlle', 'Philippe', 'Théo', 'Yoann']\n",
      " 99: ['Corentin', 'Alicia', 'Izak', 'Jonathan', 'Corentin', 'Jordan', 'Abire', 'Joris'] / ['Lamia', 'Marvin', 'Matthias', 'Mayel', 'Maëlle', 'Philippe', 'Théo', 'Yoann']\n",
      "Passe sur 7 cartes ( de 0 à 6 )\n",
      "100: ['Alicia', 'Corentin', 'Izak', 'Jonathan', 'Corentin', 'Jordan', 'Abire'] / ['Joris', 'Lamia', 'Marvin', 'Matthias', 'Mayel', 'Maëlle', 'Philippe', 'Théo', 'Yoann']\n",
      "101: ['Alicia', 'Corentin', 'Izak', 'Jonathan', 'Corentin', 'Jordan', 'Abire'] / ['Joris', 'Lamia', 'Marvin', 'Matthias', 'Mayel', 'Maëlle', 'Philippe', 'Théo', 'Yoann']\n",
      "102: ['Alicia', 'Corentin', 'Izak', 'Jonathan', 'Corentin', 'Jordan', 'Abire'] / ['Joris', 'Lamia', 'Marvin', 'Matthias', 'Mayel', 'Maëlle', 'Philippe', 'Théo', 'Yoann']\n",
      "103: ['Alicia', 'Corentin', 'Izak', 'Corentin', 'Jonathan', 'Jordan', 'Abire'] / ['Joris', 'Lamia', 'Marvin', 'Matthias', 'Mayel', 'Maëlle', 'Philippe', 'Théo', 'Yoann']\n",
      "104: ['Alicia', 'Corentin', 'Izak', 'Corentin', 'Jonathan', 'Jordan', 'Abire'] / ['Joris', 'Lamia', 'Marvin', 'Matthias', 'Mayel', 'Maëlle', 'Philippe', 'Théo', 'Yoann']\n",
      "105: ['Alicia', 'Corentin', 'Izak', 'Corentin', 'Jonathan', 'Abire', 'Jordan'] / ['Joris', 'Lamia', 'Marvin', 'Matthias', 'Mayel', 'Maëlle', 'Philippe', 'Théo', 'Yoann']\n",
      "Passe sur 6 cartes ( de 0 à 5 )\n",
      "106: ['Alicia', 'Corentin', 'Izak', 'Corentin', 'Jonathan', 'Abire'] / ['Jordan', 'Joris', 'Lamia', 'Marvin', 'Matthias', 'Mayel', 'Maëlle', 'Philippe', 'Théo', 'Yoann']\n",
      "107: ['Alicia', 'Corentin', 'Izak', 'Corentin', 'Jonathan', 'Abire'] / ['Jordan', 'Joris', 'Lamia', 'Marvin', 'Matthias', 'Mayel', 'Maëlle', 'Philippe', 'Théo', 'Yoann']\n",
      "108: ['Alicia', 'Corentin', 'Corentin', 'Izak', 'Jonathan', 'Abire'] / ['Jordan', 'Joris', 'Lamia', 'Marvin', 'Matthias', 'Mayel', 'Maëlle', 'Philippe', 'Théo', 'Yoann']\n",
      "109: ['Alicia', 'Corentin', 'Corentin', 'Izak', 'Jonathan', 'Abire'] / ['Jordan', 'Joris', 'Lamia', 'Marvin', 'Matthias', 'Mayel', 'Maëlle', 'Philippe', 'Théo', 'Yoann']\n",
      "110: ['Alicia', 'Corentin', 'Corentin', 'Izak', 'Abire', 'Jonathan'] / ['Jordan', 'Joris', 'Lamia', 'Marvin', 'Matthias', 'Mayel', 'Maëlle', 'Philippe', 'Théo', 'Yoann']\n",
      "Passe sur 5 cartes ( de 0 à 4 )\n",
      "111: ['Alicia', 'Corentin', 'Corentin', 'Izak', 'Abire'] / ['Jonathan', 'Jordan', 'Joris', 'Lamia', 'Marvin', 'Matthias', 'Mayel', 'Maëlle', 'Philippe', 'Théo', 'Yoann']\n",
      "112: ['Alicia', 'Corentin', 'Corentin', 'Izak', 'Abire'] / ['Jonathan', 'Jordan', 'Joris', 'Lamia', 'Marvin', 'Matthias', 'Mayel', 'Maëlle', 'Philippe', 'Théo', 'Yoann']\n",
      "113: ['Alicia', 'Corentin', 'Corentin', 'Izak', 'Abire'] / ['Jonathan', 'Jordan', 'Joris', 'Lamia', 'Marvin', 'Matthias', 'Mayel', 'Maëlle', 'Philippe', 'Théo', 'Yoann']\n",
      "114: ['Alicia', 'Corentin', 'Corentin', 'Abire', 'Izak'] / ['Jonathan', 'Jordan', 'Joris', 'Lamia', 'Marvin', 'Matthias', 'Mayel', 'Maëlle', 'Philippe', 'Théo', 'Yoann']\n",
      "Passe sur 4 cartes ( de 0 à 3 )\n",
      "115: ['Alicia', 'Corentin', 'Corentin', 'Abire'] / ['Izak', 'Jonathan', 'Jordan', 'Joris', 'Lamia', 'Marvin', 'Matthias', 'Mayel', 'Maëlle', 'Philippe', 'Théo', 'Yoann']\n",
      "116: ['Alicia', 'Corentin', 'Corentin', 'Abire'] / ['Izak', 'Jonathan', 'Jordan', 'Joris', 'Lamia', 'Marvin', 'Matthias', 'Mayel', 'Maëlle', 'Philippe', 'Théo', 'Yoann']\n",
      "117: ['Alicia', 'Corentin', 'Abire', 'Corentin'] / ['Izak', 'Jonathan', 'Jordan', 'Joris', 'Lamia', 'Marvin', 'Matthias', 'Mayel', 'Maëlle', 'Philippe', 'Théo', 'Yoann']\n",
      "Passe sur 3 cartes ( de 0 à 2 )\n",
      "118: ['Alicia', 'Corentin', 'Abire'] / ['Corentin', 'Izak', 'Jonathan', 'Jordan', 'Joris', 'Lamia', 'Marvin', 'Matthias', 'Mayel', 'Maëlle', 'Philippe', 'Théo', 'Yoann']\n",
      "119: ['Alicia', 'Abire', 'Corentin'] / ['Corentin', 'Izak', 'Jonathan', 'Jordan', 'Joris', 'Lamia', 'Marvin', 'Matthias', 'Mayel', 'Maëlle', 'Philippe', 'Théo', 'Yoann']\n",
      "Passe sur 2 cartes ( de 0 à 1 )\n",
      "120: ['Abire', 'Alicia'] / ['Corentin', 'Corentin', 'Izak', 'Jonathan', 'Jordan', 'Joris', 'Lamia', 'Marvin', 'Matthias', 'Mayel', 'Maëlle', 'Philippe', 'Théo', 'Yoann']\n",
      "nswap = 88\n"
     ]
    },
    {
     "data": {
      "text/plain": [
       "['Abire',\n",
       " 'Alicia',\n",
       " 'Corentin',\n",
       " 'Corentin',\n",
       " 'Izak',\n",
       " 'Jonathan',\n",
       " 'Jordan',\n",
       " 'Joris',\n",
       " 'Lamia',\n",
       " 'Marvin',\n",
       " 'Matthias',\n",
       " 'Mayel',\n",
       " 'Maëlle',\n",
       " 'Philippe',\n",
       " 'Théo',\n",
       " 'Yoann']"
      ]
     },
     "execution_count": 51,
     "metadata": {},
     "output_type": "execute_result"
    }
   ],
   "source": [
    "tri_bulles(promo, True)"
   ]
  },
  {
   "cell_type": "code",
   "execution_count": 52,
   "metadata": {},
   "outputs": [
    {
     "name": "stdout",
     "output_type": "stream",
     "text": [
      "0 D\n",
      "1 A\n",
      "2 C\n",
      "3 F\n"
     ]
    }
   ],
   "source": [
    "mes_lettres =['D','A','C','F']\n",
    "              \n",
    "for i in range(len(mes_lettres)):\n",
    "              \n",
    "              #indice,valeur accédée par indice\n",
    "    print(i,mes_lettres[i])"
   ]
  },
  {
   "cell_type": "markdown",
   "metadata": {},
   "source": [
    "---\n",
    "## Pour aller plus loin\n",
    "\n",
    "Voir \n",
    "- [Complexité algorithmique en temps](https://fr.wikipedia.org/wiki/Complexit%C3%A9_en_temps)\n",
    "- [Algorithme de tri sur Wikipedia](https://fr.wikipedia.org/wiki/Algorithme_de_tri)"
   ]
  },
  {
   "cell_type": "code",
   "execution_count": null,
   "metadata": {},
   "outputs": [],
   "source": []
  },
  {
   "cell_type": "markdown",
   "metadata": {},
   "source": [
    "### Tri à bulles optimisé\n",
    "TO DO: Imaginer ou rechercher sur internet une possibilité d'améliorer le tri à bulles"
   ]
  },
  {
   "cell_type": "code",
   "execution_count": null,
   "metadata": {},
   "outputs": [],
   "source": [
    "def tri_bulles_optimise(L):\n",
    "    pass"
   ]
  },
  {
   "cell_type": "code",
   "execution_count": null,
   "metadata": {},
   "outputs": [],
   "source": [
    "ma_liste = [5, 4, 8, 5, 8, 10, 1, 3, 6, 6, 2, 3, 9]\n",
    "tri_bulles_optimise(ma_liste)"
   ]
  },
  {
   "cell_type": "code",
   "execution_count": null,
   "metadata": {},
   "outputs": [],
   "source": []
  },
  {
   "cell_type": "markdown",
   "metadata": {},
   "source": [
    "### Tri fusion (merge sort)"
   ]
  },
  {
   "cell_type": "code",
   "execution_count": null,
   "metadata": {},
   "outputs": [],
   "source": [
    "def tri_fusion(L):\n",
    "    pass"
   ]
  },
  {
   "cell_type": "code",
   "execution_count": null,
   "metadata": {},
   "outputs": [],
   "source": [
    "ma_liste = [5, 4, 8, 5, 8, 10, 1, 3, 6, 6, 2, 3, 9]\n",
    "tri_fusion(ma_liste)"
   ]
  },
  {
   "cell_type": "code",
   "execution_count": null,
   "metadata": {},
   "outputs": [],
   "source": []
  },
  {
   "cell_type": "code",
   "execution_count": null,
   "metadata": {},
   "outputs": [],
   "source": []
  },
  {
   "cell_type": "code",
   "execution_count": null,
   "metadata": {},
   "outputs": [],
   "source": []
  },
  {
   "cell_type": "code",
   "execution_count": null,
   "metadata": {},
   "outputs": [],
   "source": []
  },
  {
   "cell_type": "code",
   "execution_count": null,
   "metadata": {},
   "outputs": [],
   "source": []
  },
  {
   "cell_type": "code",
   "execution_count": null,
   "metadata": {},
   "outputs": [],
   "source": []
  },
  {
   "cell_type": "code",
   "execution_count": null,
   "metadata": {},
   "outputs": [],
   "source": []
  },
  {
   "cell_type": "code",
   "execution_count": null,
   "metadata": {},
   "outputs": [],
   "source": []
  }
 ],
 "metadata": {
  "kernelspec": {
   "display_name": "Python 3",
   "language": "python",
   "name": "python3"
  },
  "language_info": {
   "codemirror_mode": {
    "name": "ipython",
    "version": 3
   },
   "file_extension": ".py",
   "mimetype": "text/x-python",
   "name": "python",
   "nbconvert_exporter": "python",
   "pygments_lexer": "ipython3",
   "version": "3.8.6"
  }
 },
 "nbformat": 4,
 "nbformat_minor": 4
}
